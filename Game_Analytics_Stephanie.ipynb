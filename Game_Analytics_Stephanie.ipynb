{
 "cells": [
  {
   "cell_type": "code",
   "execution_count": 1,
   "metadata": {
    "collapsed": true
   },
   "outputs": [],
   "source": [
    "import pandas as pd\n",
    "import numpy as np\n",
    "import matplotlib.pyplot as plt\n",
    "%matplotlib inline"
   ]
  },
  {
   "cell_type": "code",
   "execution_count": 2,
   "metadata": {
    "collapsed": false
   },
   "outputs": [],
   "source": [
    "sessions = pd.read_csv('./sessions.csv')\n",
    "iaps = pd.read_csv('./iaps.csv')\n",
    "spendevents = pd.read_csv('./spendevents.csv')\n",
    "users = pd.read_csv('./users.csv')"
   ]
  },
  {
   "cell_type": "markdown",
   "metadata": {},
   "source": [
    "# 1. Sessions"
   ]
  },
  {
   "cell_type": "markdown",
   "metadata": {},
   "source": [
    "### a. Time features"
   ]
  },
  {
   "cell_type": "code",
   "execution_count": 5,
   "metadata": {
    "collapsed": false
   },
   "outputs": [],
   "source": [
    "sessions['count_time'] =1\n",
    "sessions['ts_c'] = pd.to_datetime(sessions['ts'], infer_datetime_format=True)\n",
    "sessions['ts_dayofweek'] = sessions['ts_c'].apply(lambda x: x.dayofweek)\n",
    "sessions['ts_dayofyear'] = sessions['ts_c'].apply(lambda x: x.dayofyear)\n",
    "sessions['ts_weekofyear'] = sessions['ts_c'].apply(lambda x: x.weekofyear)\n",
    "sessions['ts_hour'] = sessions['ts_c'].apply(lambda x: x.hour)\n",
    "sessions.head(1)"
   ]
  },
  {
   "cell_type": "code",
   "execution_count": 6,
   "metadata": {
    "collapsed": false
   },
   "outputs": [],
   "source": [
    "sessions_sum = sessions.groupby('udid')['date'].agg([len]).reset_index()\n",
    "sessions_sum['total_active_sessions'] = sessions_sum['len'].\\\n",
    "apply(lambda x: 'one time user'if x<2 else 'less than 10 times' if x>=2 and x<11 else '11-30 times' \\\n",
    "      if x >=11 and x <30 else 'more than 30 times' )"
   ]
  },
  {
   "cell_type": "code",
   "execution_count": 8,
   "metadata": {
    "collapsed": false
   },
   "outputs": [
    {
     "data": {
      "text/plain": [
       "less than 10 times    8959\n",
       "more than 30 times    5627\n",
       "11-30 times           4255\n",
       "one time user         3703\n",
       "Name: total_active_sessions, dtype: int64"
      ]
     },
     "execution_count": 8,
     "metadata": {},
     "output_type": "execute_result"
    }
   ],
   "source": [
    "sessions_sum['total_active_sessions'].value_counts()"
   ]
  },
  {
   "cell_type": "markdown",
   "metadata": {},
   "source": [
    "### b. session features -frequency &active sessions"
   ]
  },
  {
   "cell_type": "code",
   "execution_count": 223,
   "metadata": {
    "collapsed": false
   },
   "outputs": [
    {
     "data": {
      "text/html": [
       "<div>\n",
       "<style>\n",
       "    .dataframe thead tr:only-child th {\n",
       "        text-align: right;\n",
       "    }\n",
       "\n",
       "    .dataframe thead th {\n",
       "        text-align: left;\n",
       "    }\n",
       "\n",
       "    .dataframe tbody tr th {\n",
       "        vertical-align: top;\n",
       "    }\n",
       "</style>\n",
       "<table border=\"1\" class=\"dataframe\">\n",
       "  <thead>\n",
       "    <tr style=\"text-align: right;\">\n",
       "      <th></th>\n",
       "      <th>udid</th>\n",
       "      <th>len</th>\n",
       "      <th>total_active_sessions</th>\n",
       "      <th>amin</th>\n",
       "      <th>amax</th>\n",
       "      <th>length</th>\n",
       "      <th>frequency</th>\n",
       "      <th>frequency_type</th>\n",
       "      <th>length_type</th>\n",
       "    </tr>\n",
       "  </thead>\n",
       "  <tbody>\n",
       "    <tr>\n",
       "      <th>0</th>\n",
       "      <td>0001098a82ba4bd5b552faf5ad92b93c</td>\n",
       "      <td>44</td>\n",
       "      <td>more than 30 times</td>\n",
       "      <td>215</td>\n",
       "      <td>246</td>\n",
       "      <td>31</td>\n",
       "      <td>1.419355</td>\n",
       "      <td>active 0.6-3 times a day</td>\n",
       "      <td>24 to 60 days</td>\n",
       "    </tr>\n",
       "  </tbody>\n",
       "</table>\n",
       "</div>"
      ],
      "text/plain": [
       "                               udid  len total_active_sessions  amin  amax  \\\n",
       "0  0001098a82ba4bd5b552faf5ad92b93c   44    more than 30 times   215   246   \n",
       "\n",
       "   length  frequency            frequency_type    length_type  \n",
       "0      31   1.419355  active 0.6-3 times a day  24 to 60 days  "
      ]
     },
     "execution_count": 223,
     "metadata": {},
     "output_type": "execute_result"
    }
   ],
   "source": [
    "sessions_feature.head(1)"
   ]
  },
  {
   "cell_type": "code",
   "execution_count": 45,
   "metadata": {
    "collapsed": false
   },
   "outputs": [
    {
     "data": {
      "text/plain": [
       "less than 10 times    8959\n",
       "more than 30 times    5627\n",
       "11-30 times           4255\n",
       "one time user         3703\n",
       "Name: total_active_sessions, dtype: int64"
      ]
     },
     "execution_count": 45,
     "metadata": {},
     "output_type": "execute_result"
    }
   ],
   "source": [
    "sessions_sum['total_active_sessions'].value_counts()"
   ]
  },
  {
   "cell_type": "code",
   "execution_count": 9,
   "metadata": {
    "collapsed": true
   },
   "outputs": [],
   "source": [
    "sessions_sum3 = sessions.groupby('udid')['ts_dayofyear'].agg([np.min,np.max]).reset_index()\n",
    "sessions_sum3['amax'] = pd.to_numeric(sessions_sum3.amax, errors='coerce')\n",
    "sessions_sum3['amin'] = pd.to_numeric(sessions_sum3.amin, errors='coerce')\n",
    "sessions_sum3['length'] = sessions_sum3[['amax','amin']].apply(lambda x: x[0]-x[1], axis =1)\n",
    "sessions_feature = pd.merge(sessions_sum, sessions_sum3, how = 'left', on = 'udid')\n",
    "sessions_feature['frequency'] = sessions_feature[['len','length']].apply(lambda x: x[0]/x[1] if x[1] !=0 else 0.01, axis =1)\n",
    "sessions_feature.head(2)"
   ]
  },
  {
   "cell_type": "code",
   "execution_count": 12,
   "metadata": {
    "collapsed": true
   },
   "outputs": [],
   "source": [
    "sessions_feature['frequency_type'] = sessions_feature['frequency']\\\n",
    ".apply(lambda x: 'inactive' if x<=0.02 else '0.02-0.6 times a day' \\\n",
    "       if x>0.02 and x <0.6 else 'active 0.6-3 times a day'if x>=0.6 and x<3 \\\n",
    "       else 'more than 3 times a day')\n",
    "sessions_feature['length_type'] = sessions_feature['length']\\\n",
    ".apply(lambda x: 'one day' if x<=1 else 'less than 3 days' if x>1 and x<3 else '3 to 24 days'\\\n",
    "       if x>=3 and x<24 else '24 to 60 days')"
   ]
  },
  {
   "cell_type": "markdown",
   "metadata": {},
   "source": [
    "### c. the week trend of user sessions"
   ]
  },
  {
   "cell_type": "markdown",
   "metadata": {},
   "source": [
    "From week31 to week40 are the user sessions are declining in general"
   ]
  },
  {
   "cell_type": "code",
   "execution_count": 221,
   "metadata": {
    "collapsed": false
   },
   "outputs": [],
   "source": [
    "pivot_w = pd.pivot_table(sessions,index=[\"udid\"],\\\n",
    "                               values=[\"count_time\"],columns=[\"ts_weekofyear\"],\\\n",
    "                               aggfunc=[len],fill_value=0,margins=True)\n",
    "pivot_w = pd.DataFrame(pivot_w.to_records())\n",
    "pivot_w.columns = [i.replace(\"('len', 'count_time',\", \"week\").replace(\")\", \"\") \\\n",
    "for i in pivot_w.columns]\n",
    "agg_w = pivot_w.sum(axis=0)\n",
    "agg_w = agg_w.drop('udid').drop(\"week 'All'\")\n",
    "#agg_w.plot.bar()"
   ]
  },
  {
   "cell_type": "markdown",
   "metadata": {},
   "source": [
    "### d. the hour trend of the session distribution"
   ]
  },
  {
   "cell_type": "code",
   "execution_count": 222,
   "metadata": {
    "collapsed": false
   },
   "outputs": [],
   "source": [
    "pivot_h = pd.pivot_table(sessions,index=[\"udid\"],\\\n",
    "                               values=[\"count_time\"],columns=[\"ts_hour\"],\\\n",
    "                               aggfunc=[len],fill_value=0,margins=True)\n",
    "pivot_h = pd.DataFrame(pivot_h.to_records())\n",
    "pivot_h.columns = [i.replace(\"('len', 'count_time',\", \"hour\").replace(\")\", \"\") \\\n",
    "for i in pivot_h.columns]\n",
    "pivot_h_sum = pivot_h.sum(axis=0).drop('udid').drop(\"hour 'All'\")\n",
    "#pivot_h_sum.plot.bar()"
   ]
  },
  {
   "cell_type": "markdown",
   "metadata": {},
   "source": [
    "### e. Graphic: sessions by week and by hour"
   ]
  },
  {
   "cell_type": "code",
   "execution_count": 220,
   "metadata": {
    "collapsed": false
   },
   "outputs": [
    {
     "data": {
      "text/plain": [
       "<matplotlib.axes._subplots.AxesSubplot at 0x12b4856a0>"
      ]
     },
     "execution_count": 220,
     "metadata": {},
     "output_type": "execute_result"
    },
    {
     "data": {
      "image/png": "[encoded data removed]",
      "text/plain": [
       "<matplotlib.figure.Figure at 0x12b249668>"
      ]
     },
     "metadata": {},
     "output_type": "display_data"
    }
   ],
   "source": [
    "fig, ax = plt.subplots(1,2, figsize =[12,4])\n",
    "agg_w.plot.bar(ax=ax[0])\n",
    "pivot_h_sum.plot.bar(ax = ax[1])"
   ]
  },
  {
   "cell_type": "markdown",
   "metadata": {},
   "source": [
    "# 2. iaps"
   ]
  },
  {
   "cell_type": "markdown",
   "metadata": {},
   "source": [
    "### a. iaps time features"
   ]
  },
  {
   "cell_type": "code",
   "execution_count": 23,
   "metadata": {
    "collapsed": true
   },
   "outputs": [],
   "source": [
    "iaps['ts_iaps'] = pd.to_datetime(sessions['ts'], infer_datetime_format=True)\n",
    "iaps['ts_dayofweek'] = iaps['ts_iaps'].apply(lambda x: x.dayofweek)\n",
    "iaps['ts_dayofyear'] = iaps['ts_iaps'].apply(lambda x: x.dayofyear)\n",
    "iaps['ts_weekofyear'] = iaps['ts_iaps'].apply(lambda x: x.weekofyear)\n",
    "iaps['ts_hour'] = iaps['ts_iaps'].apply(lambda x: x.hour)\n",
    "iaps['count_times'] = 1\n",
    "#iaps_sort = iaps.sort_values(['udid', 'ts_iaps'], ascending=[True, True])"
   ]
  },
  {
   "cell_type": "code",
   "execution_count": 115,
   "metadata": {
    "collapsed": false
   },
   "outputs": [
    {
     "data": {
      "text/html": [
       "<div>\n",
       "<style>\n",
       "    .dataframe thead tr:only-child th {\n",
       "        text-align: right;\n",
       "    }\n",
       "\n",
       "    .dataframe thead th {\n",
       "        text-align: left;\n",
       "    }\n",
       "\n",
       "    .dataframe tbody tr th {\n",
       "        vertical-align: top;\n",
       "    }\n",
       "</style>\n",
       "<table border=\"1\" class=\"dataframe\">\n",
       "  <thead>\n",
       "    <tr style=\"text-align: right;\">\n",
       "      <th></th>\n",
       "      <th>udid</th>\n",
       "      <th>ts</th>\n",
       "      <th>date</th>\n",
       "      <th>prod_name</th>\n",
       "      <th>prod_type</th>\n",
       "      <th>rev</th>\n",
       "      <th>ts_iaps</th>\n",
       "      <th>ts_dayofweek</th>\n",
       "      <th>ts_dayofyear</th>\n",
       "      <th>ts_weekofyear</th>\n",
       "      <th>ts_hour</th>\n",
       "      <th>count_times</th>\n",
       "    </tr>\n",
       "  </thead>\n",
       "  <tbody>\n",
       "    <tr>\n",
       "      <th>0</th>\n",
       "      <td>a737cacac9b9432180f7106c248dc9dc</td>\n",
       "      <td>8/1/16 9:35</td>\n",
       "      <td>8/1/16</td>\n",
       "      <td>iap_1_diamonds_2</td>\n",
       "      <td>diamonds</td>\n",
       "      <td>140</td>\n",
       "      <td>2016-08-01 00:13:00</td>\n",
       "      <td>0</td>\n",
       "      <td>214</td>\n",
       "      <td>31</td>\n",
       "      <td>0</td>\n",
       "      <td>1</td>\n",
       "    </tr>\n",
       "  </tbody>\n",
       "</table>\n",
       "</div>"
      ],
      "text/plain": [
       "                               udid           ts    date         prod_name  \\\n",
       "0  a737cacac9b9432180f7106c248dc9dc  8/1/16 9:35  8/1/16  iap_1_diamonds_2   \n",
       "\n",
       "  prod_type  rev             ts_iaps  ts_dayofweek  ts_dayofyear  \\\n",
       "0  diamonds  140 2016-08-01 00:13:00             0           214   \n",
       "\n",
       "   ts_weekofyear  ts_hour  count_times  \n",
       "0             31        0            1  "
      ]
     },
     "execution_count": 115,
     "metadata": {},
     "output_type": "execute_result"
    }
   ],
   "source": [
    "iaps.head(1)"
   ]
  },
  {
   "cell_type": "code",
   "execution_count": 26,
   "metadata": {
    "collapsed": false
   },
   "outputs": [
    {
     "data": {
      "text/plain": [
       "diamonds         4574\n",
       "chapterPasses    2029\n",
       "valuePack          83\n",
       "Name: prod_type, dtype: int64"
      ]
     },
     "execution_count": 26,
     "metadata": {},
     "output_type": "execute_result"
    }
   ],
   "source": [
    "iaps['prod_type'].value_counts()"
   ]
  },
  {
   "cell_type": "code",
   "execution_count": 103,
   "metadata": {
    "collapsed": false
   },
   "outputs": [],
   "source": [
    "iaps_sum2= iaps.groupby('udid')['rev'].agg([len,np.sum]).reset_index()\n",
    "iaps_sum2.columns = ['udid','purchase_time','purchase_sum']\n",
    "iaps_sum2['purchase_amount_type'] = iaps_sum2['purchase_sum'].\\\n",
    "apply(lambda x: '70' if x <=70 else '70-140' if x>70 and x<=140 else '140-420'if x>140 and x<=420 \\\n",
    "     else '420-1050' if x>420 and x<=1050 else '>1050')"
   ]
  },
  {
   "cell_type": "markdown",
   "metadata": {},
   "source": [
    "### b. iap money spent by product type"
   ]
  },
  {
   "cell_type": "code",
   "execution_count": 77,
   "metadata": {
    "collapsed": false
   },
   "outputs": [],
   "source": [
    "iap_spending = pd.pivot_table(iaps_sort,index=[\"udid\"],\\\n",
    "                               values=[\"rev\"],columns=[\"prod_type\"],\\\n",
    "                               aggfunc=[np.sum],fill_value=0,margins=True)\n",
    "iap_spending = pd.DataFrame(iap_spending.to_records())\n",
    "iap_spending.columns = [i.replace(\"('sum', 'rev', '\", \"\").replace(\"')\", \"\") \\\n",
    "for i in iap_spending.columns]"
   ]
  },
  {
   "cell_type": "code",
   "execution_count": 224,
   "metadata": {
    "collapsed": false
   },
   "outputs": [],
   "source": [
    "agg_iap_spending = iap_spending.sum(axis=0)\n",
    "agg_iap_spending= agg_iap_spending.drop('udid').drop(\"All\")\n",
    "#agg_iap_spending.plot.bar()"
   ]
  },
  {
   "cell_type": "markdown",
   "metadata": {},
   "source": [
    "### c. the week trend of user in-app-purchase distribution (there is only three weeks of iap data!)"
   ]
  },
  {
   "cell_type": "code",
   "execution_count": 34,
   "metadata": {
    "collapsed": false
   },
   "outputs": [],
   "source": [
    "iaps_w = pd.pivot_table(iaps,index=[\"udid\"],\\\n",
    "                               values=[\"rev\"],columns=[\"ts_weekofyear\"],\\\n",
    "                               aggfunc=[np.sum],fill_value=0,margins=True)\n",
    "iaps_w = pd.DataFrame(iaps_w.to_records())\n",
    "iaps_w.columns = [i.replace(\"('sum', 'rev',\", \"week\").replace(\")\", \"\") \\\n",
    "for i in iaps_w.columns]"
   ]
  },
  {
   "cell_type": "code",
   "execution_count": 206,
   "metadata": {
    "collapsed": false
   },
   "outputs": [
    {
     "data": {
      "text/html": [
       "<div>\n",
       "<style>\n",
       "    .dataframe thead tr:only-child th {\n",
       "        text-align: right;\n",
       "    }\n",
       "\n",
       "    .dataframe thead th {\n",
       "        text-align: left;\n",
       "    }\n",
       "\n",
       "    .dataframe tbody tr th {\n",
       "        vertical-align: top;\n",
       "    }\n",
       "</style>\n",
       "<table border=\"1\" class=\"dataframe\">\n",
       "  <thead>\n",
       "    <tr style=\"text-align: right;\">\n",
       "      <th></th>\n",
       "      <th>udid</th>\n",
       "      <th>week 31</th>\n",
       "      <th>week 32</th>\n",
       "      <th>week 33</th>\n",
       "      <th>week 'All'</th>\n",
       "    </tr>\n",
       "  </thead>\n",
       "  <tbody>\n",
       "    <tr>\n",
       "      <th>0</th>\n",
       "      <td>0002c90acb1c4c93ac55723d690642e1</td>\n",
       "      <td>140.0</td>\n",
       "      <td>0.0</td>\n",
       "      <td>0.0</td>\n",
       "      <td>140.0</td>\n",
       "    </tr>\n",
       "  </tbody>\n",
       "</table>\n",
       "</div>"
      ],
      "text/plain": [
       "                               udid  week 31  week 32  week 33  week 'All'\n",
       "0  0002c90acb1c4c93ac55723d690642e1    140.0      0.0      0.0       140.0"
      ]
     },
     "execution_count": 206,
     "metadata": {},
     "output_type": "execute_result"
    }
   ],
   "source": [
    "iaps_w.head(1)"
   ]
  },
  {
   "cell_type": "code",
   "execution_count": 226,
   "metadata": {
    "collapsed": false
   },
   "outputs": [],
   "source": [
    "agg_iap_w = iaps_w.sum(axis=0)\n",
    "agg_iap_w= agg_iap_w.drop('udid')\n",
    "agg_iap_w= agg_iap_w.drop(\"week 'All'\")\n",
    "#agg_iap_w.plot.bar()"
   ]
  },
  {
   "cell_type": "markdown",
   "metadata": {},
   "source": [
    "key finding: the in-app-purchase behavior drops significantly in the second week and the third week, and no users spend money after three weeks duration of the game."
   ]
  },
  {
   "cell_type": "markdown",
   "metadata": {},
   "source": [
    "### c. iap behavior - how many times a user spend money?"
   ]
  },
  {
   "cell_type": "code",
   "execution_count": 241,
   "metadata": {
    "collapsed": false
   },
   "outputs": [],
   "source": [
    "iap_sum1 = iaps.groupby('udid')['rev'].agg([len, np.sum,np.max,np.min]).reset_index()\n",
    "iap_sum1.columns = ['udid','iap_times_spending','iap_value_sum','iap_max','iap_min']\n",
    "#iap_sum1['len'].value_counts().plot(kind ='barh')"
   ]
  },
  {
   "cell_type": "code",
   "execution_count": 242,
   "metadata": {
    "collapsed": false
   },
   "outputs": [
    {
     "data": {
      "text/html": [
       "<div>\n",
       "<style>\n",
       "    .dataframe thead tr:only-child th {\n",
       "        text-align: right;\n",
       "    }\n",
       "\n",
       "    .dataframe thead th {\n",
       "        text-align: left;\n",
       "    }\n",
       "\n",
       "    .dataframe tbody tr th {\n",
       "        vertical-align: top;\n",
       "    }\n",
       "</style>\n",
       "<table border=\"1\" class=\"dataframe\">\n",
       "  <thead>\n",
       "    <tr style=\"text-align: right;\">\n",
       "      <th></th>\n",
       "      <th>udid</th>\n",
       "      <th>iap_times_spending</th>\n",
       "      <th>iap_value_sum</th>\n",
       "      <th>iap_max</th>\n",
       "      <th>iap_min</th>\n",
       "    </tr>\n",
       "  </thead>\n",
       "  <tbody>\n",
       "    <tr>\n",
       "      <th>0</th>\n",
       "      <td>0002c90acb1c4c93ac55723d690642e1</td>\n",
       "      <td>1</td>\n",
       "      <td>140</td>\n",
       "      <td>140</td>\n",
       "      <td>140</td>\n",
       "    </tr>\n",
       "  </tbody>\n",
       "</table>\n",
       "</div>"
      ],
      "text/plain": [
       "                               udid  iap_times_spending  iap_value_sum  \\\n",
       "0  0002c90acb1c4c93ac55723d690642e1                   1            140   \n",
       "\n",
       "   iap_max  iap_min  \n",
       "0      140      140  "
      ]
     },
     "execution_count": 242,
     "metadata": {},
     "output_type": "execute_result"
    }
   ],
   "source": [
    "iap_sum1.head(1)"
   ]
  },
  {
   "cell_type": "code",
   "execution_count": 231,
   "metadata": {
    "collapsed": false
   },
   "outputs": [
    {
     "data": {
      "text/html": [
       "<div>\n",
       "<style>\n",
       "    .dataframe thead tr:only-child th {\n",
       "        text-align: right;\n",
       "    }\n",
       "\n",
       "    .dataframe thead th {\n",
       "        text-align: left;\n",
       "    }\n",
       "\n",
       "    .dataframe tbody tr th {\n",
       "        vertical-align: top;\n",
       "    }\n",
       "</style>\n",
       "<table border=\"1\" class=\"dataframe\">\n",
       "  <thead>\n",
       "    <tr style=\"text-align: right;\">\n",
       "      <th></th>\n",
       "      <th>udid</th>\n",
       "      <th>iap_spendtime_chapterPasses</th>\n",
       "      <th>iap_spendtime_diamonds</th>\n",
       "      <th>iap_spendtime_valuePack</th>\n",
       "      <th>iap_spendtime_All</th>\n",
       "    </tr>\n",
       "  </thead>\n",
       "  <tbody>\n",
       "    <tr>\n",
       "      <th>0</th>\n",
       "      <td>0002c90acb1c4c93ac55723d690642e1</td>\n",
       "      <td>0.0</td>\n",
       "      <td>1.0</td>\n",
       "      <td>0.0</td>\n",
       "      <td>1.0</td>\n",
       "    </tr>\n",
       "    <tr>\n",
       "      <th>1</th>\n",
       "      <td>0053543a776f402c9f630118cc068618</td>\n",
       "      <td>0.0</td>\n",
       "      <td>11.0</td>\n",
       "      <td>0.0</td>\n",
       "      <td>11.0</td>\n",
       "    </tr>\n",
       "  </tbody>\n",
       "</table>\n",
       "</div>"
      ],
      "text/plain": [
       "                               udid  iap_spendtime_chapterPasses  \\\n",
       "0  0002c90acb1c4c93ac55723d690642e1                          0.0   \n",
       "1  0053543a776f402c9f630118cc068618                          0.0   \n",
       "\n",
       "   iap_spendtime_diamonds  iap_spendtime_valuePack  iap_spendtime_All  \n",
       "0                     1.0                      0.0                1.0  \n",
       "1                    11.0                      0.0               11.0  "
      ]
     },
     "execution_count": 231,
     "metadata": {},
     "output_type": "execute_result"
    }
   ],
   "source": [
    "iap_sum2 = pd.pivot_table(iaps,index=[\"udid\"],\\\n",
    "                               values=[\"count_times\"],columns=[\"prod_type\"],\\\n",
    "                               aggfunc=[len],fill_value=0,margins=True)\n",
    "iap_sum2 = pd.DataFrame(iap_sum2.to_records())\n",
    "iap_sum2.columns = [i.replace(\"('len', 'count_times', '\", \"iap_spendtime_\").replace(\"')\", \"\") \\\n",
    "for i in iap_sum2.columns]\n",
    "agg_product = iap_sum2.sum(axis=0)\n",
    "iap_sum2.head(2)"
   ]
  },
  {
   "cell_type": "markdown",
   "metadata": {},
   "source": [
    "### d. iap features sum"
   ]
  },
  {
   "cell_type": "code",
   "execution_count": 244,
   "metadata": {
    "collapsed": false
   },
   "outputs": [
    {
     "data": {
      "text/html": [
       "<div>\n",
       "<style>\n",
       "    .dataframe thead tr:only-child th {\n",
       "        text-align: right;\n",
       "    }\n",
       "\n",
       "    .dataframe thead th {\n",
       "        text-align: left;\n",
       "    }\n",
       "\n",
       "    .dataframe tbody tr th {\n",
       "        vertical-align: top;\n",
       "    }\n",
       "</style>\n",
       "<table border=\"1\" class=\"dataframe\">\n",
       "  <thead>\n",
       "    <tr style=\"text-align: right;\">\n",
       "      <th></th>\n",
       "      <th>udid</th>\n",
       "      <th>iap_times_spending</th>\n",
       "      <th>iap_value_sum</th>\n",
       "      <th>iap_max</th>\n",
       "      <th>iap_min</th>\n",
       "      <th>week 31</th>\n",
       "      <th>week 32</th>\n",
       "      <th>week 33</th>\n",
       "      <th>week 'All'</th>\n",
       "      <th>iap_spendtime_chapterPasses</th>\n",
       "      <th>iap_spendtime_diamonds</th>\n",
       "      <th>iap_spendtime_valuePack</th>\n",
       "      <th>iap_spendtime_All</th>\n",
       "    </tr>\n",
       "  </thead>\n",
       "  <tbody>\n",
       "    <tr>\n",
       "      <th>0</th>\n",
       "      <td>0002c90acb1c4c93ac55723d690642e1</td>\n",
       "      <td>1</td>\n",
       "      <td>140</td>\n",
       "      <td>140</td>\n",
       "      <td>140</td>\n",
       "      <td>140.0</td>\n",
       "      <td>0.0</td>\n",
       "      <td>0.0</td>\n",
       "      <td>140.0</td>\n",
       "      <td>0.0</td>\n",
       "      <td>1.0</td>\n",
       "      <td>0.0</td>\n",
       "      <td>1.0</td>\n",
       "    </tr>\n",
       "    <tr>\n",
       "      <th>1</th>\n",
       "      <td>0053543a776f402c9f630118cc068618</td>\n",
       "      <td>11</td>\n",
       "      <td>1540</td>\n",
       "      <td>140</td>\n",
       "      <td>140</td>\n",
       "      <td>1540.0</td>\n",
       "      <td>0.0</td>\n",
       "      <td>0.0</td>\n",
       "      <td>1540.0</td>\n",
       "      <td>0.0</td>\n",
       "      <td>11.0</td>\n",
       "      <td>0.0</td>\n",
       "      <td>11.0</td>\n",
       "    </tr>\n",
       "  </tbody>\n",
       "</table>\n",
       "</div>"
      ],
      "text/plain": [
       "                               udid  iap_times_spending  iap_value_sum  \\\n",
       "0  0002c90acb1c4c93ac55723d690642e1                   1            140   \n",
       "1  0053543a776f402c9f630118cc068618                  11           1540   \n",
       "\n",
       "   iap_max  iap_min  week 31  week 32  week 33  week 'All'  \\\n",
       "0      140      140    140.0      0.0      0.0       140.0   \n",
       "1      140      140   1540.0      0.0      0.0      1540.0   \n",
       "\n",
       "   iap_spendtime_chapterPasses  iap_spendtime_diamonds  \\\n",
       "0                          0.0                     1.0   \n",
       "1                          0.0                    11.0   \n",
       "\n",
       "   iap_spendtime_valuePack  iap_spendtime_All  \n",
       "0                      0.0                1.0  \n",
       "1                      0.0               11.0  "
      ]
     },
     "execution_count": 244,
     "metadata": {},
     "output_type": "execute_result"
    }
   ],
   "source": [
    "features_iap = pd.merge(iap_sum1,iaps_w, how='left', on = 'udid')\n",
    "features_iap = pd.merge(features_iap,iap_sum2, how='left', on = 'udid')\n",
    "features_iap.head(2)"
   ]
  },
  {
   "cell_type": "code",
   "execution_count": 246,
   "metadata": {
    "collapsed": false
   },
   "outputs": [
    {
     "data": {
      "text/html": [
       "<div>\n",
       "<style>\n",
       "    .dataframe thead tr:only-child th {\n",
       "        text-align: right;\n",
       "    }\n",
       "\n",
       "    .dataframe thead th {\n",
       "        text-align: left;\n",
       "    }\n",
       "\n",
       "    .dataframe tbody tr th {\n",
       "        vertical-align: top;\n",
       "    }\n",
       "</style>\n",
       "<table border=\"1\" class=\"dataframe\">\n",
       "  <thead>\n",
       "    <tr style=\"text-align: right;\">\n",
       "      <th></th>\n",
       "      <th>udid</th>\n",
       "      <th>iap_times_spending</th>\n",
       "      <th>iap_value_sum</th>\n",
       "      <th>iap_max</th>\n",
       "      <th>iap_min</th>\n",
       "      <th>week 31</th>\n",
       "      <th>week 32</th>\n",
       "      <th>week 33</th>\n",
       "      <th>week 'All'</th>\n",
       "      <th>iap_spendtime_chapterPasses</th>\n",
       "      <th>iap_spendtime_diamonds</th>\n",
       "      <th>iap_spendtime_valuePack</th>\n",
       "      <th>iap_spendtime_All</th>\n",
       "    </tr>\n",
       "  </thead>\n",
       "  <tbody>\n",
       "    <tr>\n",
       "      <th>3</th>\n",
       "      <td>012bb973dedd4b7491dc6b079083d324</td>\n",
       "      <td>2</td>\n",
       "      <td>210</td>\n",
       "      <td>140</td>\n",
       "      <td>70</td>\n",
       "      <td>210.0</td>\n",
       "      <td>0.0</td>\n",
       "      <td>0.0</td>\n",
       "      <td>210.0</td>\n",
       "      <td>1.0</td>\n",
       "      <td>0.0</td>\n",
       "      <td>1.0</td>\n",
       "      <td>2.0</td>\n",
       "    </tr>\n",
       "  </tbody>\n",
       "</table>\n",
       "</div>"
      ],
      "text/plain": [
       "                               udid  iap_times_spending  iap_value_sum  \\\n",
       "3  012bb973dedd4b7491dc6b079083d324                   2            210   \n",
       "\n",
       "   iap_max  iap_min  week 31  week 32  week 33  week 'All'  \\\n",
       "3      140       70    210.0      0.0      0.0       210.0   \n",
       "\n",
       "   iap_spendtime_chapterPasses  iap_spendtime_diamonds  \\\n",
       "3                          1.0                     0.0   \n",
       "\n",
       "   iap_spendtime_valuePack  iap_spendtime_All  \n",
       "3                      1.0                2.0  "
      ]
     },
     "execution_count": 246,
     "metadata": {},
     "output_type": "execute_result"
    }
   ],
   "source": [
    "features_iap.loc[features_iap['iap_spendtime_valuePack'] != 0].head(1)"
   ]
  },
  {
   "cell_type": "markdown",
   "metadata": {},
   "source": [
    "### e. Graphics - in-app-purchase behaviors"
   ]
  },
  {
   "cell_type": "code",
   "execution_count": 225,
   "metadata": {
    "collapsed": false
   },
   "outputs": [
    {
     "data": {
      "text/plain": [
       "<matplotlib.axes._subplots.AxesSubplot at 0x12c151208>"
      ]
     },
     "execution_count": 225,
     "metadata": {},
     "output_type": "execute_result"
    },
    {
     "data": {
      "image/png": "[encoded data removed]",
      "text/plain": [
       "<matplotlib.figure.Figure at 0x12b442a20>"
      ]
     },
     "metadata": {},
     "output_type": "display_data"
    }
   ],
   "source": [
    "fig, ax = plt.subplots(2, 2, figsize=[20, 12])\n",
    "iaps['prod_type'].value_counts(sort = False).plot(kind ='barh', ax = ax[0][0])\n",
    "iaps['prod_name'].value_counts(sort = False).plot(kind ='barh', ax = ax[0][1])\n",
    "iaps['rev'].value_counts(sort = True).plot(kind='barh', ax = ax[1][0])\n",
    "agg_iap_spending.plot.bar(ax = ax[1][1])"
   ]
  },
  {
   "cell_type": "code",
   "execution_count": null,
   "metadata": {
    "collapsed": true
   },
   "outputs": [],
   "source": [
    "#import seaborn as sns\n",
    "#import matplotlib.pyplot as plt\n",
    "#sns.set(style=\"whitegrid\")\n",
    "#sns.set_color_codes(\"pastel\")\n",
    "#sns.barplot(data=pivot_price,\n",
    "#            label=\"Total\", color=\"b\")"
   ]
  },
  {
   "cell_type": "markdown",
   "metadata": {},
   "source": [
    "# 3. Spend events"
   ]
  },
  {
   "cell_type": "markdown",
   "metadata": {},
   "source": [
    "### a. Time features"
   ]
  },
  {
   "cell_type": "code",
   "execution_count": 63,
   "metadata": {
    "collapsed": true
   },
   "outputs": [],
   "source": [
    "spendevents['ts_spend'] = pd.to_datetime(spendevents['ts'], infer_datetime_format=True)\n",
    "spendevents['ts_dayofweek'] = spendevents['ts_spend'].apply(lambda x: x.dayofweek)\n",
    "spendevents['ts_dayofyear'] = spendevents['ts_spend'].apply(lambda x: x.dayofyear)\n",
    "spendevents['ts_weekofyear'] = spendevents['ts_spend'].apply(lambda x: x.weekofyear)\n",
    "spendevents['ts_hour'] = spendevents['ts_spend'].apply(lambda x: x.hour)\n",
    "spendevents.head(1)"
   ]
  },
  {
   "cell_type": "markdown",
   "metadata": {},
   "source": [
    "### b. Sum spending by week"
   ]
  },
  {
   "cell_type": "code",
   "execution_count": 205,
   "metadata": {
    "collapsed": false
   },
   "outputs": [
    {
     "data": {
      "text/plain": [
       "s-week31    -569.060939\n",
       "s-week32   -1110.530137\n",
       "s-week33      -0.158508\n",
       "s-week34      -0.043734\n",
       "s-week35      -0.089244\n",
       "s-week36       0.007215\n",
       "s-week37      -0.193806\n",
       "s-week38      -0.008658\n",
       "s-week39       0.014652\n",
       "s-week40       0.000999\n",
       "dtype: float64"
      ]
     },
     "execution_count": 205,
     "metadata": {},
     "output_type": "execute_result"
    }
   ],
   "source": [
    "spend_w = pd.pivot_table(spendevents,index=[\"udid\"],\\\n",
    "                               values=[\"amount\"],columns=[\"ts_weekofyear\"],\\\n",
    "                               aggfunc=[np.sum],fill_value=0,margins=True)\n",
    "spend_w = pd.DataFrame(spend_w.to_records())\n",
    "spend_w.columns = [i.replace(\"('sum', 'amount', \", \"s-week\").replace(\")\", \"\") \\\n",
    "for i in spend_w.columns]\n",
    "agg_spend_w = spend_w.mean(axis=0).drop(\"s-week'All'\")\n",
    "agg_spend_w"
   ]
  },
  {
   "cell_type": "markdown",
   "metadata": {},
   "source": [
    "### c. Sum spending by categories"
   ]
  },
  {
   "cell_type": "code",
   "execution_count": 207,
   "metadata": {
    "collapsed": false
   },
   "outputs": [
    {
     "data": {
      "text/html": [
       "<div>\n",
       "<style>\n",
       "    .dataframe thead tr:only-child th {\n",
       "        text-align: right;\n",
       "    }\n",
       "\n",
       "    .dataframe thead th {\n",
       "        text-align: left;\n",
       "    }\n",
       "\n",
       "    .dataframe tbody tr th {\n",
       "        vertical-align: top;\n",
       "    }\n",
       "</style>\n",
       "<table border=\"1\" class=\"dataframe\">\n",
       "  <thead>\n",
       "    <tr style=\"text-align: right;\">\n",
       "      <th></th>\n",
       "      <th>udid</th>\n",
       "      <th>IAP</th>\n",
       "      <th>earnDiamondsCounter</th>\n",
       "      <th>premiumChoice</th>\n",
       "      <th>valuepack</th>\n",
       "      <th>All</th>\n",
       "    </tr>\n",
       "  </thead>\n",
       "  <tbody>\n",
       "    <tr>\n",
       "      <th>0</th>\n",
       "      <td>0001098a82ba4bd5b552faf5ad92b93c</td>\n",
       "      <td>0.0</td>\n",
       "      <td>-12.0</td>\n",
       "      <td>12.0</td>\n",
       "      <td>0.0</td>\n",
       "      <td>0.0</td>\n",
       "    </tr>\n",
       "    <tr>\n",
       "      <th>1</th>\n",
       "      <td>00012dc580694209acc53386fafaf745</td>\n",
       "      <td>0.0</td>\n",
       "      <td>-10.0</td>\n",
       "      <td>0.0</td>\n",
       "      <td>0.0</td>\n",
       "      <td>-10.0</td>\n",
       "    </tr>\n",
       "    <tr>\n",
       "      <th>2</th>\n",
       "      <td>00015af3b03042ceb45d3c58b416a8ce</td>\n",
       "      <td>0.0</td>\n",
       "      <td>-5.0</td>\n",
       "      <td>0.0</td>\n",
       "      <td>0.0</td>\n",
       "      <td>-5.0</td>\n",
       "    </tr>\n",
       "  </tbody>\n",
       "</table>\n",
       "</div>"
      ],
      "text/plain": [
       "                               udid  IAP  earnDiamondsCounter  premiumChoice  \\\n",
       "0  0001098a82ba4bd5b552faf5ad92b93c  0.0                -12.0           12.0   \n",
       "1  00012dc580694209acc53386fafaf745  0.0                -10.0            0.0   \n",
       "2  00015af3b03042ceb45d3c58b416a8ce  0.0                 -5.0            0.0   \n",
       "\n",
       "   valuepack   All  \n",
       "0        0.0   0.0  \n",
       "1        0.0 -10.0  \n",
       "2        0.0  -5.0  "
      ]
     },
     "execution_count": 207,
     "metadata": {},
     "output_type": "execute_result"
    }
   ],
   "source": [
    "spend_sum1 = pd.pivot_table(spendevents,index=[\"udid\"],\\\n",
    "                               values=[\"amount\"],columns=[\"spendtype\"],\\\n",
    "                               aggfunc=[np.sum],fill_value=0,margins=True)\n",
    "spend_sum1 = pd.DataFrame(spend_sum1.to_records())\n",
    "spend_sum1.columns = [i.replace(\"('sum', 'amount', '\", \"\").replace(\"')\", \"\") \\\n",
    "                     for i in spend_sum1.columns]\n",
    "spend_sum1.head(3)"
   ]
  },
  {
   "cell_type": "markdown",
   "metadata": {},
   "source": [
    "### D. Graphics: Compare sessions activities with spending & iap spendings"
   ]
  },
  {
   "cell_type": "code",
   "execution_count": 192,
   "metadata": {
    "collapsed": false
   },
   "outputs": [
    {
     "data": {
      "text/plain": [
       "<matplotlib.axes._subplots.AxesSubplot at 0x12958fa58>"
      ]
     },
     "execution_count": 192,
     "metadata": {},
     "output_type": "execute_result"
    },
    {
     "data": {
      "image/png": "[encoded data removed]",
      "text/plain": [
       "<matplotlib.figure.Figure at 0x128f66c50>"
      ]
     },
     "metadata": {},
     "output_type": "display_data"
    }
   ],
   "source": [
    "fig, ax = plt.subplots(2, 2, figsize=[18, 12])\n",
    "agg_w.plot.bar(ax = ax[0][0])\n",
    "agg_spend_w.plot.bar(ax = ax[0][1])\n",
    "iaps['rev'].value_counts(sort = True).plot(kind='barh', ax = ax[1][0])"
   ]
  },
  {
   "cell_type": "markdown",
   "metadata": {},
   "source": [
    "### e. Graphics: spending in story and chapters"
   ]
  },
  {
   "cell_type": "code",
   "execution_count": 142,
   "metadata": {
    "collapsed": false
   },
   "outputs": [
    {
     "data": {
      "text/plain": [
       " 0    38468\n",
       "-5    27348\n",
       "-1    12083\n",
       "-2     9324\n",
       " 8     3439\n",
       "Name: amount, dtype: int64"
      ]
     },
     "execution_count": 142,
     "metadata": {},
     "output_type": "execute_result"
    }
   ],
   "source": [
    "spendevents['amount'].value_counts().head(5)"
   ]
  },
  {
   "cell_type": "code",
   "execution_count": 193,
   "metadata": {
    "collapsed": false
   },
   "outputs": [
    {
     "data": {
      "text/plain": [
       "<matplotlib.axes._subplots.AxesSubplot at 0x129b517f0>"
      ]
     },
     "execution_count": 193,
     "metadata": {},
     "output_type": "execute_result"
    },
    {
     "data": {
      "image/png": "[encoded data removed]",
      "text/plain": [
       "<matplotlib.figure.Figure at 0x1297b34e0>"
      ]
     },
     "metadata": {},
     "output_type": "display_data"
    }
   ],
   "source": [
    "Fig, ax = plt.subplots(2,2,figsize=[18,12])\n",
    "spendevents['chapter'].value_counts(sort = False).plot(kind='barh', ax=ax[0][0])\n",
    "spendevents['spendtype'].value_counts().plot(kind='barh', ax=ax[1][0])\n",
    "spendevents['story'].value_counts().plot(kind = 'barh', ax=ax[0][1])"
   ]
  },
  {
   "cell_type": "markdown",
   "metadata": {},
   "source": [
    "# 4. Users"
   ]
  },
  {
   "cell_type": "code",
   "execution_count": 147,
   "metadata": {
    "collapsed": false
   },
   "outputs": [
    {
     "data": {
      "text/html": [
       "<div>\n",
       "<style>\n",
       "    .dataframe thead tr:only-child th {\n",
       "        text-align: right;\n",
       "    }\n",
       "\n",
       "    .dataframe thead th {\n",
       "        text-align: left;\n",
       "    }\n",
       "\n",
       "    .dataframe tbody tr th {\n",
       "        vertical-align: top;\n",
       "    }\n",
       "</style>\n",
       "<table border=\"1\" class=\"dataframe\">\n",
       "  <thead>\n",
       "    <tr style=\"text-align: right;\">\n",
       "      <th></th>\n",
       "      <th>udid</th>\n",
       "      <th>install_date</th>\n",
       "      <th>lang</th>\n",
       "      <th>country</th>\n",
       "      <th>hw_ver</th>\n",
       "      <th>os_ver</th>\n",
       "    </tr>\n",
       "  </thead>\n",
       "  <tbody>\n",
       "    <tr>\n",
       "      <th>0</th>\n",
       "      <td>88258a36ad1447c4b407bb782c9f7f39</td>\n",
       "      <td>8/1/16</td>\n",
       "      <td>th</td>\n",
       "      <td>TH</td>\n",
       "      <td>iPhone6,2</td>\n",
       "      <td>9.2.1</td>\n",
       "    </tr>\n",
       "  </tbody>\n",
       "</table>\n",
       "</div>"
      ],
      "text/plain": [
       "                               udid install_date lang country     hw_ver  \\\n",
       "0  88258a36ad1447c4b407bb782c9f7f39       8/1/16   th      TH  iPhone6,2   \n",
       "\n",
       "  os_ver  \n",
       "0  9.2.1  "
      ]
     },
     "execution_count": 147,
     "metadata": {},
     "output_type": "execute_result"
    }
   ],
   "source": [
    "users.head(1)"
   ]
  },
  {
   "cell_type": "code",
   "execution_count": 148,
   "metadata": {
    "collapsed": false
   },
   "outputs": [
    {
     "data": {
      "text/plain": [
       "<matplotlib.axes._subplots.AxesSubplot at 0x11c4364a8>"
      ]
     },
     "execution_count": 148,
     "metadata": {},
     "output_type": "execute_result"
    },
    {
     "data": {
      "image/png": "[encoded data removed]",
      "text/plain": [
       "<matplotlib.figure.Figure at 0x11af31da0>"
      ]
     },
     "metadata": {},
     "output_type": "display_data"
    }
   ],
   "source": [
    "users.install_date.value_counts().plot('barh')"
   ]
  },
  {
   "cell_type": "code",
   "execution_count": 249,
   "metadata": {
    "collapsed": false
   },
   "outputs": [],
   "source": [
    "spend_sum2 = spendevents.groupby('udid')['amount'].agg([len, np.sum, np.mean, np.max, np.min]).reset_index()\n",
    "spend_sum2.columns = ['udid','spend_times','spend_sum','spend_mean','spend_max','spend_min']\n",
    "mergespend_iap = pd.merge(spend_sum1,iap_sum2, how='left',on='udid')\n",
    "mergespend_iap = pd.merge(mergespend_iap,spend_sum2, how='left',on='udid')\n",
    "feature_sum = pd.merge(sessions_feature,mergespend_iap, how = 'left',on = 'udid')"
   ]
  },
  {
   "cell_type": "code",
   "execution_count": 253,
   "metadata": {
    "collapsed": false
   },
   "outputs": [
    {
     "data": {
      "text/plain": [
       "22544"
      ]
     },
     "execution_count": 253,
     "metadata": {},
     "output_type": "execute_result"
    }
   ],
   "source": [
    "len(feature_sum)"
   ]
  },
  {
   "cell_type": "code",
   "execution_count": 252,
   "metadata": {
    "collapsed": false
   },
   "outputs": [
    {
     "data": {
      "text/plain": [
       "udid                               0\n",
       "len                                0\n",
       "total_active_sessions              0\n",
       "amin                               0\n",
       "amax                               0\n",
       "length                             0\n",
       "frequency                          0\n",
       "frequency_type                     0\n",
       "length_type                        0\n",
       "IAP                             4547\n",
       "earnDiamondsCounter             4547\n",
       "premiumChoice                   4547\n",
       "valuepack                       4547\n",
       "All                             4547\n",
       "iap_spendtime_chapterPasses    21069\n",
       "iap_spendtime_diamonds         21069\n",
       "iap_spendtime_valuePack        21069\n",
       "iap_spendtime_All              21069\n",
       "spend_times                     4547\n",
       "spend_sum                       4547\n",
       "spend_mean                      4547\n",
       "spend_max                       4547\n",
       "spend_min                       4547\n",
       "dtype: int64"
      ]
     },
     "execution_count": 252,
     "metadata": {},
     "output_type": "execute_result"
    }
   ],
   "source": [
    "feature_sum.isnull().sum()"
   ]
  },
  {
   "cell_type": "code",
   "execution_count": 250,
   "metadata": {
    "collapsed": false
   },
   "outputs": [
    {
     "name": "stdout",
     "output_type": "stream",
     "text": [
      "   len total_active_sessions  amin  amax  length  frequency  \\\n",
      "0   44    more than 30 times   215   246      31   1.419355   \n",
      "1   32    more than 30 times   218   233      15   2.133333   \n",
      "2    3    less than 10 times   218   218       0   0.010000   \n",
      "3   99    more than 30 times   218   272      54   1.833333   \n",
      "4    1         one time user   218   218       0   0.010000   \n",
      "5    1         one time user   217   217       0   0.010000   \n",
      "6    8    less than 10 times   220   220       0   0.010000   \n",
      "7    2    less than 10 times   215   217       2   1.000000   \n",
      "8    1         one time user   214   214       0   0.010000   \n",
      "9    4    less than 10 times   217   217       0   0.010000   \n",
      "\n",
      "             frequency_type       length_type   IAP  \n",
      "0  active 0.6-3 times a day     24 to 60 days   0.0  \n",
      "1  active 0.6-3 times a day      3 to 24 days   0.0  \n",
      "2                  inactive           one day   0.0  \n",
      "3  active 0.6-3 times a day     24 to 60 days -22.0  \n",
      "4                  inactive           one day   0.0  \n",
      "5                  inactive           one day   0.0  \n",
      "6                  inactive           one day   NaN  \n",
      "7  active 0.6-3 times a day  less than 3 days   NaN  \n",
      "8                  inactive           one day   0.0  \n",
      "9                  inactive           one day   0.0  \n",
      "   premiumChoice  valuepack   All  iap_spendtime_chapterPasses  \\\n",
      "0           12.0        0.0   0.0                          NaN   \n",
      "1            0.0        0.0 -10.0                          NaN   \n",
      "2            0.0        0.0  -5.0                          NaN   \n",
      "3           40.0        0.0  13.0                          0.0   \n",
      "4            0.0        0.0  -5.0                          NaN   \n",
      "5            0.0        0.0  -5.0                          NaN   \n",
      "6            NaN        NaN   NaN                          NaN   \n",
      "7            NaN        NaN   NaN                          NaN   \n",
      "8            0.0        0.0  -5.0                          NaN   \n",
      "9            0.0        0.0  -5.0                          NaN   \n",
      "\n",
      "   iap_spendtime_diamonds  iap_spendtime_valuePack  iap_spendtime_All  \\\n",
      "0                     NaN                      NaN                NaN   \n",
      "1                     NaN                      NaN                NaN   \n",
      "2                     NaN                      NaN                NaN   \n",
      "3                     1.0                      0.0                1.0   \n",
      "4                     NaN                      NaN                NaN   \n",
      "5                     NaN                      NaN                NaN   \n",
      "6                     NaN                      NaN                NaN   \n",
      "7                     NaN                      NaN                NaN   \n",
      "8                     NaN                      NaN                NaN   \n",
      "9                     NaN                      NaN                NaN   \n",
      "\n",
      "   spend_times  spend_sum  \n",
      "0          6.0        0.0  \n",
      "1          3.0      -10.0  \n",
      "2          1.0       -5.0  \n",
      "3          6.0       13.0  \n",
      "4          1.0       -5.0  \n",
      "5          1.0       -5.0  \n",
      "6          NaN        NaN  \n",
      "7          NaN        NaN  \n",
      "8          1.0       -5.0  \n",
      "9          1.0       -5.0  \n",
      "   spend_max  spend_min\n",
      "0       12.0       -5.0\n",
      "1        0.0       -5.0\n",
      "2       -5.0       -5.0\n",
      "3       12.0      -22.0\n",
      "4       -5.0       -5.0\n",
      "5       -5.0       -5.0\n",
      "6        NaN        NaN\n",
      "7        NaN        NaN\n",
      "8       -5.0       -5.0\n",
      "9       -5.0       -5.0\n"
     ]
    }
   ],
   "source": [
    "feature_sum\n",
    "print(feature_sum.iloc[0:10,1:10])\n",
    "print(feature_sum.iloc[0:10,11:20])\n",
    "print(feature_sum.iloc[0:10,21:30])"
   ]
  }
 ],
 "metadata": {
  "anaconda-cloud": {},
  "kernelspec": {
   "display_name": "Python [py3k]",
   "language": "python",
   "name": "Python [py3k]"
  },
  "language_info": {
   "codemirror_mode": {
    "name": "ipython",
    "version": 3
   },
   "file_extension": ".py",
   "mimetype": "text/x-python",
   "name": "python",
   "nbconvert_exporter": "python",
   "pygments_lexer": "ipython3",
   "version": "3.6.1"
  }
 },
 "nbformat": 4,
 "nbformat_minor": 2
}
